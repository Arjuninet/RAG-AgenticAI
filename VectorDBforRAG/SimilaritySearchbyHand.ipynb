{
 "cells": [
  {
   "cell_type": "code",
   "execution_count": 1,
   "id": "0b8fe8b9",
   "metadata": {},
   "outputs": [],
   "source": [
    "import math\n",
    "\n",
    "import numpy as np\n",
    "import scipy\n",
    "import torch\n",
    "from sentence_transformers import SentenceTransformer"
   ]
  },
  {
   "cell_type": "code",
   "execution_count": 2,
   "id": "f3e5e69e",
   "metadata": {},
   "outputs": [],
   "source": [
    "documents = [\n",
    "    'Bugs introduced by the intern had to be squashed by the lead developer.',\n",
    "    'Bugs found by the quality assurance engineer were difficult to debug.',\n",
    "    'Bugs are common throughout the warm summer months, according to the entomologist.',\n",
    "    'Bugs, in particular spiders, are extensively studied by arachnologists.'\n",
    "]"
   ]
  },
  {
   "cell_type": "code",
   "execution_count": 3,
   "id": "373ab088",
   "metadata": {},
   "outputs": [],
   "source": [
    "# Load pre-trained model\n",
    "model = SentenceTransformer('paraphrase-MiniLM-L6-v2')"
   ]
  },
  {
   "cell_type": "code",
   "execution_count": 4,
   "id": "3587171e",
   "metadata": {},
   "outputs": [
    {
     "data": {
      "text/plain": [
       "SentenceTransformer(\n",
       "  (0): Transformer({'max_seq_length': 128, 'do_lower_case': False, 'architecture': 'BertModel'})\n",
       "  (1): Pooling({'word_embedding_dimension': 384, 'pooling_mode_cls_token': False, 'pooling_mode_mean_tokens': True, 'pooling_mode_max_tokens': False, 'pooling_mode_mean_sqrt_len_tokens': False, 'pooling_mode_weightedmean_tokens': False, 'pooling_mode_lasttoken': False, 'include_prompt': True})\n",
       ")"
      ]
     },
     "execution_count": 4,
     "metadata": {},
     "output_type": "execute_result"
    }
   ],
   "source": [
    "model"
   ]
  },
  {
   "cell_type": "code",
   "execution_count": 5,
   "id": "35b3777a",
   "metadata": {},
   "outputs": [],
   "source": [
    "#Generate model embeddings\n",
    "embeddings = model.encode(documents)"
   ]
  },
  {
   "cell_type": "code",
   "execution_count": 22,
   "id": "02375e0e",
   "metadata": {},
   "outputs": [
    {
     "data": {
      "text/plain": [
       "array([[-0.22804396, -0.24647696, -0.00319299, ...,  0.45528114,\n",
       "         0.63419724,  0.5375052 ],\n",
       "       [-0.3579157 , -0.32083997,  0.15963268, ..., -0.07050659,\n",
       "         0.92750233,  0.3437731 ],\n",
       "       [ 0.20302913, -0.26898587,  0.16285129, ..., -0.19650973,\n",
       "        -0.03379872,  0.5956154 ],\n",
       "       [-0.0426428 , -0.4572159 , -0.09526511, ..., -0.58030707,\n",
       "         0.17248403,  0.09127871]], shape=(4, 384), dtype=float32)"
      ]
     },
     "execution_count": 22,
     "metadata": {},
     "output_type": "execute_result"
    }
   ],
   "source": [
    "embeddings"
   ]
  },
  {
   "cell_type": "markdown",
   "id": "2dd1dd0b",
   "metadata": {},
   "source": [
    "Manual implementation of L2 distance calculation"
   ]
  },
  {
   "cell_type": "code",
   "execution_count": 18,
   "id": "f0e2b24f",
   "metadata": {},
   "outputs": [],
   "source": [
    "def euclidean_distance_fn(vector1, vector2):\n",
    "    squared_sum = sum((x - y) ** 2 for x, y in zip(vector1, vector2))\n",
    "    return math.sqrt(squared_sum)"
   ]
  },
  {
   "cell_type": "code",
   "execution_count": 19,
   "metadata": {},
   "outputs": [
    {
     "data": {
      "text/plain": [
       "5.9617892115561535"
      ]
     },
     "execution_count": 19,
     "metadata": {},
     "output_type": "execute_result"
    }
   ],
   "source": [
    "euclidean_distance_fn(embeddings[0], embeddings[1])"
   ]
  },
  {
   "cell_type": "code",
   "execution_count": null,
   "id": "9927e22d",
   "metadata": {},
   "outputs": [
    {
     "data": {
      "text/plain": [
       "array([[0.        , 5.96178921, 7.33939885, 7.15578249],\n",
       "       [5.96178921, 0.        , 7.76861453, 7.39358971],\n",
       "       [7.33939885, 7.76861453, 0.        , 5.91992767],\n",
       "       [7.15578249, 7.39358971, 5.91992767, 0.        ]])"
      ]
     },
     "execution_count": 23,
     "metadata": {},
     "output_type": "execute_result"
    }
   ],
   "source": [
    "#this calculated the distance but in effcient way\n",
    "l2_distace_manual = np.zeros([4,4])\n",
    "for i in range(embeddings.shape[0]):\n",
    "    for j in range(embeddings.shape[0]):\n",
    "        \n",
    "        l2_distace_manual[i][j] = euclidean_distance_fn(embeddings[i],embeddings[j])\n",
    "\n",
    "l2_distace_manual"
   ]
  },
  {
   "cell_type": "code",
   "execution_count": null,
   "id": "9a4ee666",
   "metadata": {},
   "outputs": [
    {
     "data": {
      "text/plain": [
       "array([[0.        , 5.96178921, 7.33939885, 7.15578249],\n",
       "       [0.        , 0.        , 7.76861453, 7.39358971],\n",
       "       [0.        , 0.        , 0.        , 5.91992767],\n",
       "       [0.        , 0.        , 0.        , 0.        ]])"
      ]
     },
     "execution_count": 30,
     "metadata": {},
     "output_type": "execute_result"
    }
   ],
   "source": [
    "#Efficient way\n",
    "#this calculated the distance but in effcient way\n",
    "l2_distace_manual = np.zeros([4,4])\n",
    "for i in range(embeddings.shape[0]):\n",
    "    for j in range(embeddings.shape[0]):\n",
    "        if i<j:\n",
    "            l2_distace_manual[i,j] = euclidean_distance_fn(embeddings[i],embeddings[j])\n",
    "        elif i>j:\n",
    "            l2_distace_manual[i,j] = \n",
    "\n",
    "l2_distace_manual\n"
   ]
  },
  {
   "cell_type": "code",
   "execution_count": null,
   "id": "cb3e69e3",
   "metadata": {},
   "outputs": [],
   "source": []
  }
 ],
 "metadata": {
  "kernelspec": {
   "display_name": "venv",
   "language": "python",
   "name": "python3"
  },
  "language_info": {
   "codemirror_mode": {
    "name": "ipython",
    "version": 3
   },
   "file_extension": ".py",
   "mimetype": "text/x-python",
   "name": "python",
   "nbconvert_exporter": "python",
   "pygments_lexer": "ipython3",
   "version": "3.12.1"
  }
 },
 "nbformat": 4,
 "nbformat_minor": 5
}

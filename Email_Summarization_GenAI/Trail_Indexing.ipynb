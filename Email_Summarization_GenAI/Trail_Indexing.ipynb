{
 "cells": [
  {
   "cell_type": "code",
   "execution_count": null,
   "id": "fea4a6da",
   "metadata": {},
   "outputs": [],
   "source": [
    "from openai import AzureOpenAI\n",
    "from langchain_community.vectorstores.azuresearch import AzureSearch\n",
    "from langchain_openai import AzureOpenAIEmbeddings, AzureChatOpenAI\n",
    "from langchain.text_splitter import  RecursiveCharacterTextSplitter,  CharacterTextSplitter\n",
    "\n",
    "from langchain_community.document_loaders import JSONLoader, DirectoryLoader\n",
    "from langchain_community.document_loaders import UnstructuredExcelLoader,  UnstructuredPowerPointLoader, Docx2txtLoader, PyPDFLoader,  UnstructuredWordDocumentLoader, TextLoader, UnstructuredFileLoader\n",
    "\n",
    "from langchain.chains import RetrievalQA\n",
    "\n",
    "from langchain.retrievers.merger_retriever import MergerRetriever\n",
    "from langchain_community.document_transformers import EmbeddingsRedundantFilter\n",
    "from langchain.retrievers.document_compressors import DocumentCompressorPipeline\n",
    "from langchain.retrievers import ContextualCompressionRetriever\n",
    "from langchain_experimental.text_splitter import SemanticChunker\n",
    "import pandas as pd\n",
    "import json "
   ]
  },
  {
   "cell_type": "code",
   "execution_count": null,
   "id": "e1367522",
   "metadata": {},
   "outputs": [],
   "source": [
    "open_ai_type = \"azure\"\n",
    "open_ai_api_version = \"2023-05-15\"\n",
    "open_ai_api_key = \"open_ai_api_key\"\n",
    "open_ai_api_key = open_ai_api_key \n",
    "open_ai_endpoint = \"open_ai_endpoint\" # base\n",
    "embeddings_model = \"janus-text-embedding-ada-002\"\n",
    "gpt_deployment_4 = \"janus-gpt-4\"\n",
    "gpt_deployment_35 = \"janus-gpt-35-turbo\"\n",
    "gpt_deployment_35_16=\"janus-gpt-35-turbo-16k\"\n",
    "embeddings_model = \"janus-text-embedding-ada-002\"\n",
    "vector_store_endpoint = \"vector_store_endpoint\"\n",
    "vector_store_key = \"vector_store_key\"\n",
    "vector_index_name = \"vector_index_name\""
   ]
  },
  {
   "cell_type": "code",
   "execution_count": null,
   "id": "26dc813d",
   "metadata": {},
   "outputs": [],
   "source": [
    "#from azure.search.documents.indexes import SearchIndexClient\n",
    "#from azure.search.documents.indexes.models import (\n",
    "#     ComplexField,\n",
    "#     SearchableField,\n",
    "#     SimpleField,\n",
    "#     SearchIndex,\n",
    "#     SearchField,\n",
    "    \n",
    "# )\n",
    "from azure.core.credentials import AzureKeyCredential\n",
    "from azure.core.credentials import AzureKeyCredential  \n",
    "from azure.search.documents import SearchClient, SearchIndexingBufferedSender  \n",
    "from azure.search.documents.indexes import SearchIndexClient  \n",
    "from azure.search.documents.models import (\n",
    "    QueryAnswerType,\n",
    "    QueryCaptionType,\n",
    "    QueryCaptionResult,\n",
    "    QueryAnswerResult,\n",
    "    SemanticErrorMode,\n",
    "    SemanticErrorReason,\n",
    "    SemanticSearchResultsType,\n",
    "    QueryType,\n",
    "    VectorizedQuery,\n",
    "    VectorQuery,\n",
    "    VectorFilterMode,    \n",
    ")\n",
    "from azure.search.documents.indexes.models import (  \n",
    "    ExhaustiveKnnAlgorithmConfiguration,\n",
    "    ExhaustiveKnnParameters,\n",
    "    SearchIndex,  \n",
    "    SearchField,  \n",
    "    SearchFieldDataType,  \n",
    "    SimpleField,  \n",
    "    SearchableField,  \n",
    "    SearchIndex,  \n",
    "    SemanticConfiguration,  \n",
    "    SemanticPrioritizedFields,\n",
    "    SemanticField,  \n",
    "    SearchField,  \n",
    "    SemanticSearch,\n",
    "    VectorSearch,  \n",
    "    HnswAlgorithmConfiguration,\n",
    "    HnswParameters,  \n",
    "    VectorSearch,\n",
    "    VectorSearchAlgorithmConfiguration,\n",
    "    VectorSearchAlgorithmKind,\n",
    "    VectorSearchProfile,\n",
    "    SearchIndex,\n",
    "    SearchField,\n",
    "    SearchFieldDataType,\n",
    "    SimpleField,\n",
    "    SearchableField,\n",
    "    VectorSearch,\n",
    "    ExhaustiveKnnParameters,\n",
    "    SearchIndex,  \n",
    "    SearchField,  \n",
    "    SearchFieldDataType,  \n",
    "    SimpleField,  \n",
    "    SearchableField,  \n",
    "    SearchIndex,  \n",
    "    SemanticConfiguration,  \n",
    "    SemanticField,  \n",
    "    SearchField,  \n",
    "    VectorSearch,  \n",
    "    HnswParameters,  \n",
    "    VectorSearch,\n",
    "    VectorSearchAlgorithmKind,\n",
    "    VectorSearchAlgorithmMetric,\n",
    "    VectorSearchProfile,\n",
    ")  \n",
    "\n",
    "# # Replace with your search service name and admin key\n",
    "# service_name = \"your-service-name\"\n",
    "# admin_key = \"your-admin-key\"\n",
    "\n",
    "# # Replace with your service endpoint\n",
    "# endpoint = f\"https://{service_name}.search.windows.net\"\n",
    "# index_name = \"your-index-name\"\n",
    "\n",
    "# Create a SearchIndexClient\n",
    "client = SearchIndexClient(vector_store_endpoint, AzureKeyCredential(vector_store_key))"
   ]
  },
  {
   "cell_type": "markdown",
   "id": "1bdecd57",
   "metadata": {},
   "source": [
    "##  To create the index"
   ]
  },
  {
   "cell_type": "code",
   "execution_count": null,
   "id": "16e02f52",
   "metadata": {},
   "outputs": [],
   "source": [
    "\n",
    "\n",
    "fields=[\n",
    "        SimpleField(name=\"id\",type=SearchFieldDataType.String , retrievable=True, key=True, sortable= True, filterable=True, facetable=True),\n",
    "        SearchField(name=\"incoming_email_vector\", type=SearchFieldDataType.Collection(SearchFieldDataType.Single) ,searchable=True,vector_search_dimensions=1536, vector_search_profile_name=\"myHnswProfile\" ),\n",
    "        SearchableField(name=\"incoming_email\",type=SearchFieldDataType.String, searchable=True, retrievable=True, filterable=True, facetable=True),\n",
    "        SearchableField(name=\"outgoing_email\", type=SearchFieldDataType.String, searchable=True, retrievable=True, filterable=True, facetable=True)\n",
    "        \n",
    "\n",
    "         \n",
    "        #ComplexField(name=\"incoming_email_embedding\", type=SearchFieldDataType.COLLECTION(SearchFieldDataType.SINGLE)),\n",
    "        #ComplexField(name=\"outgoing_email_embedding\", type=SearchFieldDataType.COLLECTION(SearchFieldDataType.SINGLE))\n",
    "        # SimpleField(name=\"id\", type=\"Edm.String\", retrievable=True, key=True, sortable= True, filterable=True, facetable=True),\n",
    "        # SearchableField(name=\"incoming_email_vector\", type=\"Collection(Edm.Double)\", searchable=True, retrievable=True,filterable=True, facetable=True),\n",
    "        # SearchableField(name=\"incoming_email\", type=\"Edm.String\", searchable=True, retrievable=True, filterable=True, facetable=True),\n",
    "        # SearchableField(name=\"outgoing_email\", type=\"Edm.String\", searchable=True, retrievable=True, filterable=True, facetable=True),\n",
    "        # SearchField(name=\"embedding_vector\", type= \"SearchFieldDataType Collection(Edm.Double)\",searchable=True,vector_search_dimensions=1536, vector_search_profile_name=\"myHnswProfile\" )\n",
    "    ]\n",
    "\n"
   ]
  },
  {
   "cell_type": "code",
   "execution_count": null,
   "metadata": {},
   "outputs": [],
   "source": [
    "vector_search = VectorSearch(\n",
    "    algorithms=[\n",
    "        HnswAlgorithmConfiguration(\n",
    "            name=\"myHnsw\",\n",
    "            kind=VectorSearchAlgorithmKind.HNSW,\n",
    "            parameters=HnswParameters(\n",
    "                m=4,\n",
    "                ef_construction=400,\n",
    "                ef_search=500,\n",
    "                metric=VectorSearchAlgorithmMetric.COSINE\n",
    "            )\n",
    "        ),\n",
    "        ExhaustiveKnnAlgorithmConfiguration(\n",
    "            name=\"myExhaustiveKnn\",\n",
    "            kind=VectorSearchAlgorithmKind.EXHAUSTIVE_KNN,\n",
    "            parameters=ExhaustiveKnnParameters(\n",
    "                metric=VectorSearchAlgorithmMetric.COSINE\n",
    "            )\n",
    "        )\n",
    "    ],\n",
    "    profiles=[\n",
    "        VectorSearchProfile(\n",
    "            name=\"myHnswProfile\",\n",
    "            algorithm_configuration_name=\"myHnsw\",\n",
    "        ),\n",
    "        VectorSearchProfile(\n",
    "            name=\"myExhaustiveKnnProfile\",\n",
    "            algorithm_configuration_name=\"myExhaustiveKnn\",\n",
    "        )\n",
    "    ]\n",
    ")"
   ]
  },
  {
   "cell_type": "code",
   "execution_count": null,
   "id": "5be2beb1",
   "metadata": {},
   "outputs": [],
   "source": [
    "semantic_config = SemanticConfiguration(\n",
    "    name=\"my-semantic-config\",\n",
    "    prioritized_fields=SemanticPrioritizedFields(\n",
    "        content_fields=[SemanticField(field_name=\"incoming_email\")],\n",
    "        keywords_fields=[SemanticField(field_name=\"outgoing_email\")]\n",
    "    )\n",
    ")"
   ]
  },
  {
   "cell_type": "code",
   "execution_count": null,
   "id": "53c0ff7e",
   "metadata": {},
   "outputs": [],
   "source": [
    "# Create the semantic settings with the configuration\n",
    "semantic_search = SemanticSearch(configurations=[semantic_config])\n",
    "\n",
    "# Create the search index with the semantic settings\n",
    "index = SearchIndex(name=vector_index_name, fields=fields,\n",
    "                    vector_search=vector_search, \n",
    "                    semantic_search=semantic_search)\n",
    "result = client.create_or_update_index(index)\n",
    "print(f' {result.name} created')"
   ]
  },
  {
   "cell_type": "markdown",
   "id": "fe6f5da2",
   "metadata": {},
   "source": [
    "## Code to ingest the JSON into index created above"
   ]
  },
  {
   "cell_type": "code",
   "execution_count": null,
   "id": "a86c7948",
   "metadata": {},
   "outputs": [],
   "source": [
    "from azure.search.documents import SearchClient\n",
    "# Open and read the 'data.json' file, which contains the documents to be uploaded and queried\n",
    "with open('New_mail_for_index.json', 'r') as file:\n",
    "    documents = json.load(file)\n",
    "\n",
    "# Create a Search Client instance for uploading and querying data\n",
    "search_client = SearchClient(vector_store_endpoint, vector_index_name, credential=AzureKeyCredential(vector_store_key))\n",
    "\n",
    "# Upload the documents to the specified search index using the Search Client\n",
    "#result = search_client.upload_documents(documents)\n",
    "def split_documents(documents, batch_size):\n",
    "    for i in range(0, len(documents), batch_size):\n",
    "        yield documents[i:i + batch_size]\n",
    "\n",
    "batch_size = 100  # Adjust the batch size as needed\n",
    "\n",
    "try:\n",
    "    for batch in split_documents(documents, batch_size):\n",
    "        result = search_client.upload_documents(batch)\n",
    "        print(f\"Uploaded {len(batch)} documents\")\n",
    "except Exception as e:\n",
    "    print(f\"An error occurred: {e}\")\n",
    "\n",
    "# Print the number of documents successfully uploaded\n",
    "#print(f\"Uploaded {len(documents)} documents\")"
   ]
  },
  {
   "cell_type": "markdown",
   "id": "2d24a5d2",
   "metadata": {},
   "source": [
    "## The Code to create JSON  "
   ]
  },
  {
   "cell_type": "code",
   "execution_count": null,
   "metadata": {},
   "outputs": [],
   "source": [
    "index = client.get_index(vector_index_name)\n",
    "# Print the fields in the index\n",
    "for field in index.fields:\n",
    "    print(f\"Field name: {field.name}, Field type: {field.type}\")"
   ]
  },
  {
   "cell_type": "code",
   "execution_count": null,
   "id": "eb7fb247",
   "metadata": {},
   "outputs": [],
   "source": [
    "embeddings = AzureOpenAIEmbeddings(\n",
    "    azure_deployment=embeddings_model,\n",
    "    openai_api_version=open_ai_api_version,\n",
    "    azure_endpoint = open_ai_endpoint,\n",
    "    openai_api_key = open_ai_api_key\n",
    ")"
   ]
  },
  {
   "cell_type": "code",
   "execution_count": null,
   "id": "0c40f82c",
   "metadata": {},
   "outputs": [],
   "source": [
    "# Define a function to get text embeddings using OpenAI's text-embedding model.\n",
    "def get_embedding(text,embeddings):\n",
    "    # Replace newline characters with spaces in the input text.\n",
    "    text = text.replace(\"\\n\", \" \")\n",
    "    \n",
    "    # Call OpenAI's text-embedding API to obtain embeddings for the input text.\n",
    "    #embeddings = langchain_openai.Embedding.create(input=[text], model=model)\n",
    "    Embedding = embeddings.embed_query(text)\n",
    "    # Extract the embedding vector from the API response and return it.\n",
    "    embedding_vector = Embedding\n",
    "    return embedding_vector\n",
    "\n"
   ]
  },
  {
   "cell_type": "code",
   "execution_count": null,
   "id": "330f5fe8",
   "metadata": {},
   "outputs": [],
   "source": [
    "df= pd.read_excel(r\"Your_path.xlsx\")"
   ]
  },
  {
   "cell_type": "code",
   "execution_count": null,
   "metadata": {},
   "outputs": [],
   "source": [
    "df.columns"
   ]
  },
  {
   "cell_type": "code",
   "execution_count": null,
   "id": "a488c06e",
   "metadata": {},
   "outputs": [],
   "source": [
    "df1=pd.DataFrame()"
   ]
  },
  {
   "cell_type": "code",
   "execution_count": null,
   "id": "47af8179",
   "metadata": {},
   "outputs": [],
   "source": [
    "df1[\"Incoming_emails\"]=df[\"Cleansed_Incoming_Email_Masked\"]\n",
    "df1[\"Outgoing_emails\"]=df[\"Cleansed_Outgoing_Email_Masked\"]"
   ]
  },
  {
   "cell_type": "code",
   "execution_count": null,
   "id": "d067268e",
   "metadata": {},
   "outputs": [],
   "source": [
    "df1.head()"
   ]
  },
  {
   "cell_type": "code",
   "execution_count": null,
   "id": "2c8f5ebf",
   "metadata": {},
   "outputs": [],
   "source": [
    "df1.to_excel(\"New_mail_for_index.xlsx\")"
   ]
  },
  {
   "cell_type": "code",
   "execution_count": null,
   "id": "98bb281a",
   "metadata": {},
   "outputs": [],
   "source": [
    "data= pd.read_excel(\"New_mail_for_index.xlsx\")"
   ]
  },
  {
   "cell_type": "code",
   "execution_count": null,
   "id": "c3ea40a3",
   "metadata": {},
   "outputs": [],
   "source": [
    "data[\"Incoming_emails_embedding\"] = data.Incoming_emails.apply(lambda x: get_embedding(x, embeddings ))"
   ]
  },
  {
   "cell_type": "code",
   "execution_count": null,
   "id": "8052360d",
   "metadata": {},
   "outputs": [],
   "source": [
    "# DataFrame with assigned columns\n",
    "assigned_df = data.assign( \n",
    "    id = data[\"Unnamed: 0\"],\n",
    "    incoming_email_vector =data[\"Incoming_emails_embedding\"],\n",
    "    incoming_email =data[\"Incoming_emails\"],\n",
    "    outgoing_email =data[\"Outgoing_emails\"]\n",
    ")\n",
    "\n",
    "# DataFrame with index columns\n",
    "filtered_df = assigned_df.drop(\n",
    "    [\"Unnamed: 0\", \"Incoming_emails_embedding\", \"Incoming_emails\", \"Outgoing_emails\"],\n",
    "    inplace=False,\n",
    "    axis=1\n",
    ")"
   ]
  },
  {
   "cell_type": "code",
   "execution_count": null,
   "metadata": {},
   "outputs": [],
   "source": [
    "filtered_df.head()"
   ]
  },
  {
   "cell_type": "code",
   "execution_count": null,
   "id": "f930757c",
   "metadata": {},
   "outputs": [],
   "source": [
    "filtered_df[\"id\"]= filtered_df[\"id\"].astype(str)"
   ]
  },
  {
   "cell_type": "code",
   "execution_count": null,
   "id": "06dc8bca",
   "metadata": {},
   "outputs": [],
   "source": [
    "filtered_df.to_json(\"New_mail_for_index.json\", orient='records')"
   ]
  },
  {
   "cell_type": "code",
   "execution_count": null,
   "id": "199f81c8",
   "metadata": {},
   "outputs": [],
   "source": []
  }
 ],
 "metadata": {
  "kernelspec": {
   "display_name": "venv",
   "language": "python",
   "name": "python3"
  },
  "language_info": {
   "name": "python",
   "version": "3.12.1"
  }
 },
 "nbformat": 4,
 "nbformat_minor": 5
}

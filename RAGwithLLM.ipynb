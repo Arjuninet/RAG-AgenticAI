{
 "cells": [
  {
   "cell_type": "code",
   "execution_count": 1,
   "id": "8f49af18",
   "metadata": {},
   "outputs": [],
   "source": [
    "import warnings\n",
    "warnings.filterwarnings(\"ignore\")\n",
    "\n",
    "from langchain.document_loaders import TextLoader\n",
    "from langchain.text_splitter import RecursiveCharacterTextSplitter\n",
    "from langchain.vectorstores import Chroma\n",
    "from langchain.embeddings import HuggingFaceEmbeddings\n",
    "from langchain.prompts import PromptTemplate\n",
    "from langchain.chains import RetrievalQA,ConversationalRetrievalChain\n",
    "from langchain.memory import ConversationBufferMemory\n",
    "from langchain_groq import ChatGroq\n",
    "import wget"
   ]
  },
  {
   "cell_type": "code",
   "execution_count": 2,
   "id": "fa1c5ce9",
   "metadata": {},
   "outputs": [
    {
     "name": "stdout",
     "output_type": "stream",
     "text": [
      "Document Downloaded\n"
     ]
    }
   ],
   "source": [
    "file_name = 'companyPolicies.txt'\n",
    "URL = \"https://cf-courses-data.s3.us.cloud-object-storage.appdomain.cloud/6JDbUb_L3egv_eOkouY71A.txt\"\n",
    "wget.download(URL, out=file_name)\n",
    "print(\"Document Downloaded\")\n"
   ]
  },
  {
   "cell_type": "code",
   "execution_count": 3,
   "id": "2d103848",
   "metadata": {},
   "outputs": [
    {
     "name": "stdout",
     "output_type": "stream",
     "text": [
      "Documents: 5\n"
     ]
    }
   ],
   "source": [
    "loader = TextLoader('companyPolicies.txt')\n",
    "documents = loader.load_and_split()\n",
    "print(f\"Documents: {len(documents)}\")"
   ]
  },
  {
   "cell_type": "code",
   "execution_count": 4,
   "id": "4d071902",
   "metadata": {},
   "outputs": [
    {
     "name": "stderr",
     "output_type": "stream",
     "text": [
      "/tmp/ipykernel_49143/3655315981.py:1: LangChainDeprecationWarning: The class `HuggingFaceEmbeddings` was deprecated in LangChain 0.2.2 and will be removed in 1.0. An updated version of the class exists in the :class:`~langchain-huggingface package and should be used instead. To use it run `pip install -U :class:`~langchain-huggingface` and import as `from :class:`~langchain_huggingface import HuggingFaceEmbeddings``.\n",
      "  embeddings = HuggingFaceEmbeddings()\n",
      "/tmp/ipykernel_49143/3655315981.py:1: LangChainDeprecationWarning: Default values for HuggingFaceEmbeddings.model_name were deprecated in LangChain 0.2.16 and will be removed in 0.4.0. Explicitly pass a model_name to the HuggingFaceEmbeddings constructor instead.\n",
      "  embeddings = HuggingFaceEmbeddings()\n"
     ]
    }
   ],
   "source": [
    "embeddings = HuggingFaceEmbeddings()"
   ]
  },
  {
   "cell_type": "code",
   "execution_count": 5,
   "id": "ba5af5fc",
   "metadata": {},
   "outputs": [
    {
     "name": "stdout",
     "output_type": "stream",
     "text": [
      "documents ingested\n"
     ]
    }
   ],
   "source": [
    "docsearch = Chroma.from_documents(documents, embeddings)\n",
    "print(\"documents ingested\")"
   ]
  },
  {
   "cell_type": "code",
   "execution_count": 6,
   "id": "94d6c26f",
   "metadata": {},
   "outputs": [],
   "source": [
    "from dotenv import load_dotenv\n",
    "import os\n",
    "load_dotenv()\n",
    "\n",
    "os.environ[\"GROQ_API_KEY\"] = os.getenv(\"GROQ_API_KEY\")\n",
    "\n",
    "llm = ChatGroq(model=\"llama-3.1-8b-instant\", temperature=0.3)"
   ]
  },
  {
   "cell_type": "code",
   "execution_count": 7,
   "id": "67357f9a",
   "metadata": {},
   "outputs": [],
   "source": [
    "prompt=\"\"\"\n",
    "you are an helpful assitant and use the information from the document to answer the question at the end. if you do not know the answer, just say Don't know.\n",
    "do not try to make up the answer.\n",
    "{context}\n",
    "\n",
    "Question: {question}\n",
    "\n",
    "\"\"\"\n",
    "promtp_template = PromptTemplate(template=prompt, input_variables=[\"context\",\"question\"])\n",
    "\n",
    "chain_type_kwargs = {\"prompt\": promtp_template}"
   ]
  },
  {
   "cell_type": "code",
   "execution_count": 8,
   "id": "0a3e0130",
   "metadata": {},
   "outputs": [],
   "source": [
    "qa = RetrievalQA.from_chain_type(\n",
    "    llm=llm,\n",
    "    chain_type=\"stuff\",\n",
    "    retriever = docsearch.as_retriever(),\n",
    "    chain_type_kwargs=chain_type_kwargs,\n",
    "    return_source_documents=False\n",
    ")"
   ]
  },
  {
   "cell_type": "code",
   "execution_count": 32,
   "id": "a03cfea1",
   "metadata": {},
   "outputs": [
    {
     "name": "stdout",
     "output_type": "stream",
     "text": [
      "Based on the Mobile Phone Policy, the key words are:\n",
      "\n",
      "- Mobile\n",
      "- Phone\n",
      "- Security\n",
      "- Confidentiality\n",
      "- Cost\n",
      "- Management\n",
      "- Compliance\n",
      "- Monitoring\n",
      "- Consequences\n",
      "- Termination\n",
      "- Privileges\n",
      "- Lost\n",
      "- Stolen\n",
      "- Devices\n",
      "- IT\n",
      "- Department\n",
      "- Supervisor\n",
      "According to the Smoking Policy, No Smoking in Company Vehicles: Smoking is not permitted in company vehicles, whether they are owned or leased, to maintain the condition and cleanliness of these vehicles.\n",
      "Don't know. There is no information in the provided document about eating in company vehicles.\n"
     ]
    }
   ],
   "source": [
    "while True:\n",
    "    query = input('Enter your Query')\n",
    "    if query in [\"bye\",\"exit\"]:\n",
    "        break\n",
    "    print(qa.invoke(query)['result'])"
   ]
  },
  {
   "cell_type": "code",
   "execution_count": 30,
   "id": "422bce6f",
   "metadata": {},
   "outputs": [],
   "source": [
    "response = qa.invoke(\"Summarize this doc for me in 20 words only\")"
   ]
  },
  {
   "cell_type": "markdown",
   "id": "313d4dc7",
   "metadata": {},
   "source": [
    "## Conversational chain type `Not working now`"
   ]
  },
  {
   "cell_type": "code",
   "execution_count": 9,
   "id": "99dc00b6",
   "metadata": {},
   "outputs": [
    {
     "name": "stderr",
     "output_type": "stream",
     "text": [
      "/tmp/ipykernel_49143/2068878438.py:2: LangChainDeprecationWarning: Please see the migration guide at: https://python.langchain.com/docs/versions/migrating_memory/\n",
      "  memory = ConversationBufferMemory(memory_key = \"chat_history\", return_message = True)\n"
     ]
    }
   ],
   "source": [
    "#memory = ConversationalRetrievalChain(memory_key=\"chat_history\", return_message=True)\n",
    "memory = ConversationBufferMemory(memory_key = \"chat_history\", return_message = True)"
   ]
  },
  {
   "cell_type": "code",
   "execution_count": 15,
   "id": "12cc48ee",
   "metadata": {},
   "outputs": [
    {
     "name": "stdout",
     "output_type": "stream",
     "text": [
      "Answer: I'm an AI assistant, and I'm here to provide information and answer questions based on the context provided to me. In this case, I'm a representative of a company that has a set of policies outlined in the text you provided, including Health and Safety Policy, Anti-discrimination and Harassment Policy, Discipline and Termination Policy, and others.\n",
      "\n",
      "I don't have a personal identity, but I'm here to help answer your questions and provide information about the company's policies and procedures. If you have any specific questions or concerns, feel free to ask!\n",
      "Answer: Based on the provided information, here's a summary of the company's policies and procedures:\n",
      "\n",
      "**Code of Conduct:**\n",
      "\n",
      "* Emphasizes integrity, respect, accountability, safety, and environmental responsibility\n",
      "* Outlines expectations for employee behavior and conduct\n",
      "* Encourages a culture of transparency, inclusivity, and social responsibility\n",
      "\n",
      "**Recruitment Policy:**\n",
      "\n",
      "* Emphasizes equal opportunity employment and diversity\n",
      "* Outlines transparent recruitment processes\n",
      "* Ensures fair and unbiased selection criteria\n",
      "* Protects candidate data and provides feedback\n",
      "\n",
      "**Internet and Email Policy:**\n",
      "\n",
      "* Regulates the use of company-provided internet and email services\n",
      "* Ensures secure and responsible usage\n",
      "* Prohibits harassment, discrimination, and unauthorized use\n",
      "* Monitors usage for security and compliance purposes\n",
      "\n",
      "**Discipline and Termination Policy:**\n",
      "\n",
      "* Outlines procedures for addressing performance and conduct issues\n",
      "* Describes disciplinary actions and termination procedures\n",
      "* Ensures fairness and adherence to legal requirements\n",
      "\n",
      "**Health and Safety Policy:**\n",
      "\n",
      "* Prioritizes employee, customer, and public safety\n",
      "* Complies with relevant health and safety laws and regulations\n",
      "* Regularly assesses and improves safety measures\n",
      "\n",
      "**Anti-discrimination and Harassment Policy:**\n",
      "\n",
      "* Prohibits discrimination and harassment based on protected characteristics\n",
      "* Encourages reporting and investigation of incidents\n",
      "* Takes disciplinary action against violators\n",
      "\n",
      "**Mobile Phone Policy:**\n",
      "\n",
      "* Regulates the use of company-issued mobile devices\n",
      "* Ensures secure and responsible usage\n",
      "* Prohibits unauthorized use and ensures compliance with laws and regulations\n",
      "\n",
      "**Smoking Policy:**\n",
      "\n",
      "* Not explicitly outlined in the provided information, but likely prohibits smoking in the workplace or on company premises.\n",
      "\n",
      "Overall, the company's policies and procedures aim to create a safe, inclusive, and productive work environment, while promoting responsible behavior and adherence to laws and regulations.\n",
      "Answer: I don't see any information about eating in vehicles in the provided policies. However, I do see a policy about smoking in company vehicles, which states that \"Smoking is not permitted in company vehicles, whether they are owned or leased, to maintain the condition and cleanliness of these vehicles.\"\n",
      "Answer: You haven't asked me anything yet. This conversation just started. What would you like to know?\n",
      "Answer: You haven't asked me anything yet. This is the beginning of our conversation. What would you like to ask?\n"
     ]
    }
   ],
   "source": [
    "memoryQA = ConversationalRetrievalChain.from_llm(\n",
    "    llm=llm,\n",
    "    chain_type=\"stuff\",\n",
    "    retriever=docsearch.as_retriever(),\n",
    "    memory=memory,\n",
    "    get_chat_history=lambda h: h,\n",
    "    return_source_documents=False\n",
    ")\n",
    "\n",
    "history = []\n",
    "\n",
    "while True:\n",
    "    query = input(\"Enter your Query: \")\n",
    "    if query.lower() in [\"bye\", \"exit\"]:\n",
    "        break\n",
    "\n",
    "    response = memoryQA.invoke({\n",
    "        \"question\": query,\n",
    "        \"chat_history\": history\n",
    "    })\n",
    "\n",
    "    print(f\"Answer: {response['answer']}\")\n",
    "    history.append((query, response['answer']))\n"
   ]
  },
  {
   "cell_type": "code",
   "execution_count": null,
   "id": "94bbfb02",
   "metadata": {},
   "outputs": [],
   "source": []
  }
 ],
 "metadata": {
  "kernelspec": {
   "display_name": "venv",
   "language": "python",
   "name": "python3"
  },
  "language_info": {
   "codemirror_mode": {
    "name": "ipython",
    "version": 3
   },
   "file_extension": ".py",
   "mimetype": "text/x-python",
   "name": "python",
   "nbconvert_exporter": "python",
   "pygments_lexer": "ipython3",
   "version": "3.12.1"
  }
 },
 "nbformat": 4,
 "nbformat_minor": 5
}

{
 "cells": [
  {
   "cell_type": "code",
   "execution_count": null,
   "id": "736142ea",
   "metadata": {},
   "outputs": [],
   "source": [
    "from transformers import "
   ]
  }
 ],
 "metadata": {
  "kernelspec": {
   "display_name": "venv",
   "language": "python",
   "name": "python3"
  },
  "language_info": {
   "name": "python",
   "version": "3.12.1"
  }
 },
 "nbformat": 4,
 "nbformat_minor": 5
}
